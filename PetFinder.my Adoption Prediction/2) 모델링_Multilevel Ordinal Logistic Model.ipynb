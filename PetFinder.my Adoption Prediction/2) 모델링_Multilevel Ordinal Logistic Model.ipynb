{
 "cells": [
  {
   "cell_type": "markdown",
   "metadata": {},
   "source": [
    "- Multilevel Ordinal Logistic regression을 활용해서 StateName, BreedName 등 군집성이 높은 컬럼들을 바탕으로 ordinal classification 진행"
   ]
  },
  {
   "cell_type": "markdown",
   "metadata": {},
   "source": [
    "## Import Data"
   ]
  },
  {
   "cell_type": "code",
   "execution_count": null,
   "metadata": {},
   "outputs": [],
   "source": [
    "install.packages('ordinal')\n",
    "library(ordinal)\n",
    "library(nlme)\n",
    "library(package = feather)\n",
    "library(pscl)\n",
    "library(MASS)"
   ]
  },
  {
   "cell_type": "code",
   "execution_count": 34,
   "metadata": {},
   "outputs": [
    {
     "name": "stderr",
     "output_type": "stream",
     "text": [
      "Warning message:\n",
      "“Coercing int64 to double”Warning message:\n",
      "“Coercing int64 to double”Warning message:\n",
      "“Coercing int64 to double”Warning message:\n",
      "“Coercing int64 to double”Warning message:\n",
      "“Coercing int64 to double”Warning message:\n",
      "“Coercing int64 to double”Warning message:\n",
      "“Coercing int64 to double”Warning message:\n",
      "“Coercing int64 to double”"
     ]
    }
   ],
   "source": [
    "df <- read_feather('merged_data.feather')"
   ]
  },
  {
   "cell_type": "markdown",
   "metadata": {},
   "source": [
    "## Data Preprocessing"
   ]
  },
  {
   "cell_type": "markdown",
   "metadata": {},
   "source": [
    "EDA를 통해 파악한 컬럼 특성을 바탕으로 데이터 전처리 진행"
   ]
  },
  {
   "cell_type": "code",
   "execution_count": 36,
   "metadata": {},
   "outputs": [],
   "source": [
    "# Description을 제외하고 필터링\n",
    "df_trim = dplyr::select(df, -Description, -PetID, -RescuerID, -Name)\n",
    "        \n",
    "# is_train이 True인 데이터 열만 추림\n",
    "df_trim = dplyr::filter(df_trim, is_train)\n",
    "        \n",
    "# 각각의 컬럼을 categorical 형으로 변환\n",
    "df_trim$Dewormed = as.factor(df_trim$Dewormed)\n",
    "df_trim$Gender = as.factor(df_trim$Gender)\n",
    "df_trim$Vaccinated = as.factor(df_trim$Vaccinated)\n",
    "df_trim$Sterilized = as.factor(df_trim$Sterilized)\n",
    "df_trim$Type = as.factor(df_trim$Type)\n",
    "df_trim$VideoAmt = as.factor(df_trim$VideoAmt)\n",
    "df_trim$ColorName1 = as.factor(df_trim$ColorName1)\n",
    "df_trim$ColorName2 = as.factor(df_trim$ColorName2)\n",
    "df_trim$ColorName3 = as.factor(df_trim$ColorName3)\n",
    "df_trim$BreedName1 = as.factor(df_trim$BreedName1)\n",
    "df_trim$BreedName2 = as.factor(df_trim$BreedName2)\n",
    "df_trim$StateName = as.factor(df_trim$StateName)\n",
    "df_trim$AdoptionSpeed <- as.ordered(df_trim$AdoptionSpeed)"
   ]
  },
  {
   "cell_type": "markdown",
   "metadata": {},
   "source": [
    "## Modeling"
   ]
  },
  {
   "cell_type": "markdown",
   "metadata": {},
   "source": [
    "### 1) Baseline 모델"
   ]
  },
  {
   "cell_type": "markdown",
   "metadata": {},
   "source": [
    "과거 EDA 과정에서 보여졌듯이 StateName 별 입양 특성 차이가 극명하게 나는 것을 확인함.이 지식을 바탕으로 StateName을 베이스로하는 모델을 제작하고 해석해보자."
   ]
  },
  {
   "cell_type": "code",
   "execution_count": 64,
   "metadata": {},
   "outputs": [],
   "source": [
    "model1 <-clmm(AdoptionSpeed~ 1+(1|StateName), data=df_trim)"
   ]
  },
  {
   "cell_type": "code",
   "execution_count": 65,
   "metadata": {},
   "outputs": [
    {
     "data": {
      "text/plain": [
       "Cumulative Link Mixed Model fitted with the Laplace approximation\n",
       "\n",
       "formula: AdoptionSpeed ~ 1 + (1 | StateName)\n",
       "data:    df_trim\n",
       "\n",
       " link  threshold nobs  logLik    AIC      niter    max.grad cond.H \n",
       " logit flexible  14993 -21905.65 43821.29 258(596) 3.83e-03 7.9e+02\n",
       "\n",
       "Random effects:\n",
       " Groups    Name        Variance Std.Dev.\n",
       " StateName (Intercept) 0.1257   0.3545  \n",
       "Number of groups:  StateName 14 \n",
       "\n",
       "No Coefficients\n",
       "\n",
       "Threshold coefficients:\n",
       "    Estimate Std. Error z value\n",
       "0|1  -3.8369     0.1243 -30.870\n",
       "1|2  -1.4494     0.1153 -12.569\n",
       "2|3  -0.2427     0.1147  -2.116\n",
       "3|4   0.6991     0.1148   6.090"
      ]
     },
     "metadata": {},
     "output_type": "display_data"
    }
   ],
   "source": [
    "summary(model1)"
   ]
  },
  {
   "cell_type": "markdown",
   "metadata": {},
   "source": [
    "- Std.Dev가 0.3545으로 0 보다 크다는 것은 StateName 별의 AdoptionSpeed 분산이 존재함을 뜻함\n",
    "- AIC: 43821.29"
   ]
  },
  {
   "cell_type": "markdown",
   "metadata": {},
   "source": [
    "### 2) StateName 별 Type이 AdoptionSpeed에 미치는 영향을 고려한 모델"
   ]
  },
  {
   "cell_type": "code",
   "execution_count": 84,
   "metadata": {},
   "outputs": [
    {
     "name": "stderr",
     "output_type": "stream",
     "text": [
      "Warning message in update.uC(rho):\n",
      "“step factor reduced below minimum when updating the random effects\n",
      "  at iteration 526”Warning message in update.uC(rho):\n",
      "“iteration limit reached when updating the random effects\n",
      "  at iteration 534”Warning message in update.uC(rho):\n",
      "“step factor reduced below minimum when updating the random effects\n",
      "  at iteration 620”"
     ]
    }
   ],
   "source": [
    "model2.1 <-clmm(AdoptionSpeed~ Type +(1|StateName), data=df_trim)"
   ]
  },
  {
   "cell_type": "code",
   "execution_count": 85,
   "metadata": {},
   "outputs": [
    {
     "data": {
      "text/plain": [
       "Cumulative Link Mixed Model fitted with the Laplace approximation\n",
       "\n",
       "formula: AdoptionSpeed ~ Type + (1 | StateName)\n",
       "data:    df_trim\n",
       "\n",
       " link  threshold nobs  logLik    AIC      niter    max.grad cond.H \n",
       " logit flexible  14993 -21849.45 43710.90 361(939) 2.78e-02 8.2e+02\n",
       "\n",
       "Random effects:\n",
       " Groups    Name        Variance Std.Dev.\n",
       " StateName (Intercept) 0.1167   0.3416  \n",
       "Number of groups:  StateName 14 \n",
       "\n",
       "Coefficients:\n",
       "        Estimate Std. Error z value Pr(>|z|)    \n",
       "TypeDog  0.31645    0.02989   10.59   <2e-16 ***\n",
       "---\n",
       "Signif. codes:  0 ‘***’ 0.001 ‘**’ 0.01 ‘*’ 0.05 ‘.’ 0.1 ‘ ’ 1\n",
       "\n",
       "Threshold coefficients:\n",
       "    Estimate Std. Error z value\n",
       "0|1 -3.68627    0.12262 -30.064\n",
       "1|2 -1.29181    0.11356 -11.376\n",
       "2|3 -0.07722    0.11307  -0.683\n",
       "3|4  0.86895    0.11321   7.675"
      ]
     },
     "metadata": {},
     "output_type": "display_data"
    }
   ],
   "source": [
    "summary(model2.1)"
   ]
  },
  {
   "cell_type": "markdown",
   "metadata": {},
   "source": [
    "- StateName별 TypeDog가 AdoptionSpeed에 미치는 영향이 통계적으로 유의미함을 보임. 따라서 Type이 Dog일 경우에 입양이 상대적으로 늦게됨.\n",
    "- Model#1 대비 AIC가 비교적 감소함 (43710.9): 좀더 개선된 모델임을 알 수 있음.\n",
    "- StateName의 Std.Dev.는 감소 → Type을 감안하게 될 경우 군집별 (StateName) 분산이 줄어드는 것을 보임. 그 뜻은 많은 State들에서 Cat을 선호하기에 Type을 감안하게 되면 전반적으로 군집별 차이가 다소 감소함을 뜻함."
   ]
  },
  {
   "cell_type": "markdown",
   "metadata": {},
   "source": [
    "## Model 비교\n",
    "\n",
    "과연 Multilevel (StateName)을 고려하지 않은 모델과 Model#2는 어떤 차이를 가질까? \\\n",
    "여러 Ordinal logistic regression 들과 비교해보자."
   ]
  },
  {
   "cell_type": "markdown",
   "metadata": {},
   "source": [
    "#### 1) AdoptionSpeed~ Type"
   ]
  },
  {
   "cell_type": "code",
   "execution_count": 94,
   "metadata": {},
   "outputs": [
    {
     "data": {
      "text/plain": [
       "Call:\n",
       "polr(formula = AdoptionSpeed ~ Type, data = df_trim, Hess = TRUE)\n",
       "\n",
       "Coefficients:\n",
       "         Value Std. Error t value\n",
       "TypeDog 0.3243    0.02945   11.01\n",
       "\n",
       "Intercepts:\n",
       "    Value    Std. Error t value \n",
       "0|1  -3.4074   0.0521   -65.3622\n",
       "1|2  -1.0175   0.0247   -41.2282\n",
       "2|3   0.1909   0.0231     8.2497\n",
       "3|4   1.1295   0.0249    45.4042\n",
       "\n",
       "Residual Deviance: 43819.10 \n",
       "AIC: 43829.10 "
      ]
     },
     "metadata": {},
     "output_type": "display_data"
    }
   ],
   "source": [
    "model2.2 <- polr(AdoptionSpeed~ Type, data=df_trim, Hess = TRUE)\n",
    "summary(model2.2)"
   ]
  },
  {
   "cell_type": "markdown",
   "metadata": {},
   "source": [
    "- 위 모델의 결과와 Model#2를 비교해보면 TypeDog의 coefficient 값이 살짝 차이나는 것을 볼 수 있음.\n",
    "- 두 모델 모두 TypeDog이 통계적으로 유의미함을 보임.\n",
    "- 하지만 AIC의 경우 Model#2가 더 개선됨.\n",
    "- 따라서 위 모델에서 설명되지 못하는 StateName별 차이를 Multilevel modeling의 경우 더 잘 설명함을 알 수 있음."
   ]
  },
  {
   "cell_type": "markdown",
   "metadata": {},
   "source": [
    "#### 2) AdoptionSpeed ~ Gender + Type"
   ]
  },
  {
   "cell_type": "code",
   "execution_count": 113,
   "metadata": {},
   "outputs": [
    {
     "data": {
      "text/plain": [
       "Call:\n",
       "polr(formula = AdoptionSpeed ~ Gender + Type, data = df_trim, \n",
       "    Hess = TRUE)\n",
       "\n",
       "Coefficients:\n",
       "               Value Std. Error t value\n",
       "GenderMale  -0.21884    0.03195  -6.849\n",
       "GenderMixed  0.08231    0.04416   1.864\n",
       "TypeDog      0.33008    0.02968  11.120\n",
       "\n",
       "Intercepts:\n",
       "    Value    Std. Error t value \n",
       "0|1  -3.4798   0.0549   -63.3861\n",
       "1|2  -1.0871   0.0299   -36.3353\n",
       "2|3   0.1256   0.0284     4.4181\n",
       "3|4   1.0674   0.0297    35.9144\n",
       "\n",
       "Residual Deviance: 43754.12 \n",
       "AIC: 43768.12 "
      ]
     },
     "metadata": {},
     "output_type": "display_data"
    }
   ],
   "source": [
    "model3.1 <- polr(AdoptionSpeed ~ Gender + Type, data=df_trim, Hess = TRUE)\n",
    "summary(model3.1)"
   ]
  },
  {
   "cell_type": "code",
   "execution_count": 114,
   "metadata": {},
   "outputs": [
    {
     "name": "stderr",
     "output_type": "stream",
     "text": [
      "Warning message in update.uC(rho):\n",
      "“step factor reduced below minimum when updating the random effects\n",
      "  at iteration 774”Warning message in update.uC(rho):\n",
      "“iteration limit reached when updating the random effects\n",
      "  at iteration 792”Warning message in update.uC(rho):\n",
      "“iteration limit reached when updating the random effects\n",
      "  at iteration 862”Warning message in update.uC(rho):\n",
      "“step factor reduced below minimum when updating the random effects\n",
      "  at iteration 926”Warning message in update.uC(rho):\n",
      "“step factor reduced below minimum when updating the random effects\n",
      "  at iteration 949”Warning message in update.uC(rho):\n",
      "“step factor reduced below minimum when updating the random effects\n",
      "  at iteration 1005”Warning message in update.uC(rho):\n",
      "“iteration limit reached when updating the random effects\n",
      "  at iteration 1019”Warning message in update.uC(rho):\n",
      "“step factor reduced below minimum when updating the random effects\n",
      "  at iteration 1348”Warning message in update.uC(rho):\n",
      "“step factor reduced below minimum when updating the random effects\n",
      "  at iteration 1359”"
     ]
    },
    {
     "data": {
      "text/plain": [
       "Cumulative Link Mixed Model fitted with the Laplace approximation\n",
       "\n",
       "formula: AdoptionSpeed ~ Gender + Type + (1 | StateName)\n",
       "data:    df_trim\n",
       "\n",
       " link  threshold nobs  logLik    AIC      niter     max.grad cond.H \n",
       " logit flexible  14993 -21818.78 43653.56 735(1912) 7.74e-03 8.2e+02\n",
       "\n",
       "Random effects:\n",
       " Groups    Name        Variance Std.Dev.\n",
       " StateName (Intercept) 0.1153   0.3396  \n",
       "Number of groups:  StateName 14 \n",
       "\n",
       "Coefficients:\n",
       "            Estimate Std. Error z value Pr(>|z|)    \n",
       "GenderMale  -0.21191    0.03201  -6.621 3.58e-11 ***\n",
       "GenderMixed  0.08290    0.04425   1.873    0.061 .  \n",
       "TypeDog      0.32297    0.03011  10.728  < 2e-16 ***\n",
       "---\n",
       "Signif. codes:  0 ‘***’ 0.001 ‘**’ 0.01 ‘*’ 0.05 ‘.’ 0.1 ‘ ’ 1\n",
       "\n",
       "Threshold coefficients:\n",
       "    Estimate Std. Error z value\n",
       "0|1  -3.7512     0.1224 -30.648\n",
       "1|2  -1.3541     0.1134 -11.941\n",
       "2|3  -0.1355     0.1129  -1.201\n",
       "3|4   0.8137     0.1130   7.202"
      ]
     },
     "metadata": {},
     "output_type": "display_data"
    }
   ],
   "source": [
    "model3.2 <-clmm(AdoptionSpeed ~ Gender + Type + (1|StateName), data=df_trim)\n",
    "summary(model3.2)"
   ]
  },
  {
   "cell_type": "markdown",
   "metadata": {},
   "source": [
    "- 1) AdoptionSpeed~ Type 의 결과와 유사한 양상을 보임.\n",
    "- 두 모델 모두에서 GenderMale, TypeDog가 통계적으로 유의미함을 보임.\n",
    "- StateName별 차이가 분명 존재하며 개선된 AIC로 비교 가능."
   ]
  },
  {
   "cell_type": "markdown",
   "metadata": {},
   "source": [
    "#### 3) AdoptionSpeed ~ Gender + Type + Gender * Type (교호작용 고려)"
   ]
  },
  {
   "cell_type": "code",
   "execution_count": 115,
   "metadata": {},
   "outputs": [
    {
     "data": {
      "text/plain": [
       "Call:\n",
       "polr(formula = AdoptionSpeed ~ Gender + Type + Gender * Type, \n",
       "    data = df_trim, Hess = TRUE)\n",
       "\n",
       "Coefficients:\n",
       "                       Value Std. Error t value\n",
       "GenderMale          -0.13290    0.04857 -2.7361\n",
       "GenderMixed          0.08157    0.06004  1.3587\n",
       "TypeDog              0.38375    0.04275  8.9776\n",
       "GenderMale:TypeDog  -0.15250    0.06444 -2.3666\n",
       "GenderMixed:TypeDog  0.02575    0.08916  0.2888\n",
       "\n",
       "Intercepts:\n",
       "    Value    Std. Error t value \n",
       "0|1  -3.4483   0.0578   -59.6621\n",
       "1|2  -1.0555   0.0350   -30.1634\n",
       "2|3   0.1575   0.0338     4.6591\n",
       "3|4   1.0997   0.0350    31.4423\n",
       "\n",
       "Residual Deviance: 43747.32 \n",
       "AIC: 43765.32 "
      ]
     },
     "metadata": {},
     "output_type": "display_data"
    }
   ],
   "source": [
    "model4.1 <- polr(AdoptionSpeed ~ Gender + Type + Gender * Type, data=df_trim, Hess = TRUE)\n",
    "summary(model4.1)"
   ]
  },
  {
   "cell_type": "code",
   "execution_count": 116,
   "metadata": {},
   "outputs": [
    {
     "data": {
      "text/plain": [
       "Cumulative Link Mixed Model fitted with the Laplace approximation\n",
       "\n",
       "formula: AdoptionSpeed ~ Gender + Type + Gender * Type + (1 | StateName)\n",
       "data:    df_trim\n",
       "\n",
       " link  threshold nobs  logLik    AIC      niter      max.grad cond.H \n",
       " logit flexible  14993 -21815.52 43651.04 1238(2649) 2.99e-02 8.3e+02\n",
       "\n",
       "Random effects:\n",
       " Groups    Name        Variance Std.Dev.\n",
       " StateName (Intercept) 0.1143   0.338   \n",
       "Number of groups:  StateName 14 \n",
       "\n",
       "Coefficients:\n",
       "                    Estimate Std. Error z value Pr(>|z|)    \n",
       "GenderMale          -0.12659    0.04864  -2.603  0.00925 ** \n",
       "GenderMixed          0.08505    0.06013   1.415  0.15721    \n",
       "TypeDog              0.37733    0.04311   8.754  < 2e-16 ***\n",
       "GenderMale:TypeDog  -0.15150    0.06456  -2.346  0.01895 *  \n",
       "GenderMixed:TypeDog  0.01883    0.08926   0.211  0.83293    \n",
       "---\n",
       "Signif. codes:  0 ‘***’ 0.001 ‘**’ 0.01 ‘*’ 0.05 ‘.’ 0.1 ‘ ’ 1\n",
       "\n",
       "Threshold coefficients:\n",
       "    Estimate Std. Error z value\n",
       "0|1  -3.7188     0.1240 -29.986\n",
       "1|2  -1.3216     0.1151 -11.484\n",
       "2|3  -0.1026     0.1146  -0.896\n",
       "3|4   0.8469     0.1147   7.383"
      ]
     },
     "metadata": {},
     "output_type": "display_data"
    }
   ],
   "source": [
    "model4.2 <-clmm(AdoptionSpeed ~ Gender + Type + Gender * Type + (1|StateName), data=df_trim)\n",
    "summary(model4.2)"
   ]
  },
  {
   "cell_type": "markdown",
   "metadata": {},
   "source": [
    "- 교호작용 (GenderMale:TypeDog)이 통계적 유의미함을 보이며 수컷 강아지가 입양이 더 빨리되는 것을 보임.\n",
    "- Multilevel 모델 에서 더 개선된 AIC가 나타남으로 StateName간 차이가 존재함을 나타냄."
   ]
  },
  {
   "cell_type": "markdown",
   "metadata": {},
   "source": [
    "#### Multilevel (BreedName)을 고려한 모델과 고려하지 않은 Ordinal logistic regression를 비교해보자."
   ]
  },
  {
   "cell_type": "markdown",
   "metadata": {},
   "source": [
    "#### 4) AdoptionSpeed ~ Age + Health"
   ]
  },
  {
   "cell_type": "code",
   "execution_count": 117,
   "metadata": {},
   "outputs": [
    {
     "data": {
      "text/plain": [
       "Call:\n",
       "polr(formula = AdoptionSpeed ~ Age + Health, data = df_trim, \n",
       "    Hess = TRUE)\n",
       "\n",
       "Coefficients:\n",
       "         Value Std. Error t value\n",
       "Age    0.01033  0.0008496  12.160\n",
       "Health 0.18845  0.0753091   2.502\n",
       "\n",
       "Intercepts:\n",
       "    Value    Std. Error t value \n",
       "0|1  -3.2852   0.0920   -35.7159\n",
       "1|2  -0.8991   0.0796   -11.2899\n",
       "2|3   0.3086   0.0792     3.8961\n",
       "3|4   1.2523   0.0799    15.6688\n",
       "\n",
       "Residual Deviance: 43770.58 \n",
       "AIC: 43782.58 "
      ]
     },
     "metadata": {},
     "output_type": "display_data"
    }
   ],
   "source": [
    "model5.1 <-polr(AdoptionSpeed ~ Age + Health, data=df_trim, Hess = TRUE)\n",
    "summary(model5.1)"
   ]
  },
  {
   "cell_type": "code",
   "execution_count": 118,
   "metadata": {},
   "outputs": [
    {
     "data": {
      "text/plain": [
       "Cumulative Link Mixed Model fitted with the Laplace approximation\n",
       "\n",
       "formula: AdoptionSpeed ~ Age + Health + (1 | BreedName1)\n",
       "data:    df_trim\n",
       "\n",
       " link  threshold nobs  logLik    AIC      niter     max.grad cond.H \n",
       " logit flexible  14976 -21466.38 42946.76 350(1059) 4.12e-02 5.1e+04\n",
       "\n",
       "Random effects:\n",
       " Groups     Name        Variance Std.Dev.\n",
       " BreedName1 (Intercept) 0.3679   0.6066  \n",
       "Number of groups:  BreedName1 174 \n",
       "\n",
       "Coefficients:\n",
       "       Estimate Std. Error z value Pr(>|z|)    \n",
       "Age    0.020658   0.001049  19.695  < 2e-16 ***\n",
       "Health 0.225538   0.076279   2.957  0.00311 ** \n",
       "---\n",
       "Signif. codes:  0 ‘***’ 0.001 ‘**’ 0.01 ‘*’ 0.05 ‘.’ 0.1 ‘ ’ 1\n",
       "\n",
       "Threshold coefficients:\n",
       "    Estimate Std. Error z value\n",
       "0|1  -2.8441     0.1168 -24.342\n",
       "1|2  -0.3968     0.1077  -3.686\n",
       "2|3   0.8633     0.1077   8.019\n",
       "3|4   1.8462     0.1085  17.023\n",
       "(17 observations deleted due to missingness)"
      ]
     },
     "metadata": {},
     "output_type": "display_data"
    }
   ],
   "source": [
    "model5.2 <-clmm(AdoptionSpeed ~ Age + Health + (1|BreedName1), data=df_trim)\n",
    "summary(model5.2)"
   ]
  },
  {
   "cell_type": "markdown",
   "metadata": {},
   "source": [
    "- model5.1과 model5.2를 비교했을때 확연한 차이가 나타남.\n",
    "- model5.2 (Multilevel)에서 Std.Dev 0.6으로 앞의 multilevel 모델들에 비해서 월등히 큼. 이는 BreedName 별로 차이가 난다는 것을 뜻함.\n",
    "- 두 모델 모두 Age와 Health가 통계적으로 유의미함을 보이며 나이가 많을수록, 건강이 나쁠수록 입양이 늦게되며 특히나 Health가 더 큰 영향을 끼침.\n",
    "- model5.2가 훨씬 더 더 개선된 AIC가 나타남으로 BreedName간 차이가 존재함을 알 수 있음."
   ]
  }
 ],
 "metadata": {
  "kernelspec": {
   "display_name": "Python 3.6 (tensorflow-2.0.0)",
   "language": "python",
   "name": "tensorflow"
  },
  "language_info": {
   "codemirror_mode": {
    "name": "ipython",
    "version": 3
   },
   "file_extension": ".py",
   "mimetype": "text/x-python",
   "name": "python",
   "nbconvert_exporter": "python",
   "pygments_lexer": "ipython3",
   "version": "3.6.8"
  }
 },
 "nbformat": 4,
 "nbformat_minor": 2
}
